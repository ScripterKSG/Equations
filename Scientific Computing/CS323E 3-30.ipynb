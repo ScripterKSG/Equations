{
 "cells": [
  {
   "cell_type": "code",
   "execution_count": 10,
   "id": "bb67fbe1",
   "metadata": {},
   "outputs": [
    {
     "data": {
      "image/png": "[encoded data removed]",
      "text/plain": [
       "<Figure size 432x288 with 1 Axes>"
      ]
     },
     "metadata": {
      "needs_background": "light"
     },
     "output_type": "display_data"
    }
   ],
   "source": [
    "import numpy as np\n",
    "from pylab import imshow, gray, show\n",
    "    \n",
    "def main():\n",
    "    #define constants\n",
    "    M = 100    #number of square on a side\n",
    "    tol = 1e-3    #tolerance of solution\n",
    "    \n",
    "    f = lambda x,y : -20 * np.exp(- ((x - .5)**2 + (y - .5)**2) / .05)\n",
    "    \n",
    "    #create arrays to hold potential values\n",
    "    phi = np.zeros ([M+1,M+1], float)\n",
    "    #initialize boundary condition\n",
    "    x = np.linspace(0,1,M+1)\n",
    "    h = x[1] - x[0]\n",
    "    phi[0,:] = -np.sin(np.pi * x)\n",
    "    phi_prime = np.empty ([M+1, M+1], float)\n",
    "    \n",
    "    #main loop\n",
    "    delta = 1.0   #arbitrary val, specify the difference\n",
    "    while (delta > tol):\n",
    "        for i in range (M + 1):\n",
    "            for j in range (M + 1):\n",
    "                if (i == 0) or (i == M) or (j == 0) or (j == M):\n",
    "                    phi_prime[i,j] = phi[i,j]    #on the boundary, we do not change the values\n",
    "                else:  # avg of 4 surrounding values\n",
    "                    phi_prime[i,j] = (phi[i+1,j] + phi[i-1,j] + phi[i,j+1] + phi[i,j-1]) / 4 - h**2 * f(i/M,j/M) / 4\n",
    "                \n",
    "        #calculate max difference from old values\n",
    "        diff = abs (phi - phi_prime)\n",
    "        delta = np.amax (diff)\n",
    "        \n",
    "        #swap two arrays around\n",
    "        phi, phi_prime = phi_prime, phi\n",
    "    \n",
    "    #make a plot\n",
    "    imshow (phi)\n",
    "    gray()\n",
    "    show()\n",
    "\n",
    "main()\n",
    "                "
   ]
  },
  {
   "cell_type": "code",
   "execution_count": null,
   "id": "4fabf813",
   "metadata": {},
   "outputs": [],
   "source": []
  },
  {
   "cell_type": "code",
   "execution_count": null,
   "id": "c8607fcd",
   "metadata": {},
   "outputs": [],
   "source": []
  }
 ],
 "metadata": {
  "kernelspec": {
   "display_name": "Python 3 (ipykernel)",
   "language": "python",
   "name": "python3"
  },
  "language_info": {
   "codemirror_mode": {
    "name": "ipython",
    "version": 3
   },
   "file_extension": ".py",
   "mimetype": "text/x-python",
   "name": "python",
   "nbconvert_exporter": "python",
   "pygments_lexer": "ipython3",
   "version": "3.9.7"
  }
 },
 "nbformat": 4,
 "nbformat_minor": 5
}
