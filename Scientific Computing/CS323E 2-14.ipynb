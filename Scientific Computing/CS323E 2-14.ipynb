{
 "cells": [
  {
   "cell_type": "code",
   "execution_count": 17,
   "id": "c7ca26b1",
   "metadata": {},
   "outputs": [
    {
     "name": "stdout",
     "output_type": "stream",
     "text": [
      "-0.2846666666666676 1.096000000000001\n"
     ]
    },
    {
     "data": {
      "image/png": "[encoded data removed]",
      "text/plain": [
       "<Figure size 432x288 with 1 Axes>"
      ]
     },
     "metadata": {
      "needs_background": "light"
     },
     "output_type": "display_data"
    }
   ],
   "source": [
    "# Do a linear least squares fit for the following set of data ppoints.\n",
    "\n",
    "# Input: data is a list of tuples of (x, y) values\n",
    "# Output: using least squares method fits a linear curve of the form\n",
    "#         y = a0 + a1 * x\n",
    "#         returns a0 and a1\n",
    "\n",
    "import matplotlib.pyplot as plt\n",
    "import numpy as np\n",
    "\n",
    "def linear_fit (data):\n",
    "    xSum = 0\n",
    "    ySum = 0\n",
    "    n = len(data)\n",
    "    xSumSquared = 0\n",
    "    xySum = 0\n",
    "    for p in data:\n",
    "        xSum += p[0]\n",
    "        ySum += p[1]\n",
    "        xSumSquared += p[0]**2\n",
    "        xySum += p[0] * p[1]\n",
    "    delta = dt(n, xSum, xSum, xSumSquared)\n",
    "    a0 = dt(ySum, xSum, xySum, xSumSquared) / delta\n",
    "    a1 = dt(n, ySum, xSum, xySum) / delta\n",
    "    return (a0,a1)\n",
    "\n",
    "def dt(a,b,c,d):\n",
    "    return a*d - b*c\n",
    "def main():\n",
    "    data = [(0.5, 0.31), (1.0, 0.82), (1.5, 1.29), (2.0, 1.85), (2.5, 2.51), (3.0, 3.02)]\n",
    "    a0, a1 = linear_fit (data)\n",
    "    print(a0,a1)\n",
    "    # plot the points and the best fit line\n",
    "    xs = [x[0] for x in data]\n",
    "    ys = [x[1] for x in data]\n",
    "    plt.scatter(xs, ys)\n",
    "    f = lambda x: a0 + a1*x\n",
    "    xSet = np.linspace(0,3)\n",
    "    plt.plot(xSet,f(xSet))\n",
    "\n",
    "\n",
    "main()\n"
   ]
  },
  {
   "cell_type": "code",
   "execution_count": null,
   "id": "8a7eef24",
   "metadata": {},
   "outputs": [],
   "source": []
  }
 ],
 "metadata": {
  "kernelspec": {
   "display_name": "Python 3 (ipykernel)",
   "language": "python",
   "name": "python3"
  },
  "language_info": {
   "codemirror_mode": {
    "name": "ipython",
    "version": 3
   },
   "file_extension": ".py",
   "mimetype": "text/x-python",
   "name": "python",
   "nbconvert_exporter": "python",
   "pygments_lexer": "ipython3",
   "version": "3.9.7"
  }
 },
 "nbformat": 4,
 "nbformat_minor": 5
}
