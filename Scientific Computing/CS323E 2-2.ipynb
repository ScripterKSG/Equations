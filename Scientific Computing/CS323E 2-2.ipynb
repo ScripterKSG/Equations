{
 "cells": [
  {
   "cell_type": "code",
   "execution_count": 1,
   "id": "e40b3bbc",
   "metadata": {},
   "outputs": [],
   "source": [
    "#Question 1; Write code to implement the Regula Falsi:\n",
    "  #def Regula_Falsi (f, a, b, tol):\n",
    "    # f Python function or lambda function\n",
    "    # a lower bound\n",
    "    # b upper bound\n",
    "    # tol is the tolerance\n",
    "\n",
    "    # For points (a, f(a)) and (b, f(b)) determine slope m\n",
    "\n",
    "    # Use the equation of the line: y - y1 = m (x - x1)\n",
    "\n",
    "    # To find the x-intercept set y = 0 and solve for x and call this\n",
    "    # value c.\n",
    "\n",
    "    # Compare the signs of (f(a) and f(c)) and (f(c) and f(b)). Use the\n",
    "    # right interval and replace one of the endpoints with c.\n",
    "\n",
    "    # Repeat the steps so that the absolute value of f(c) is less than\n",
    "    # the tolerance."
   ]
  },
  {
   "cell_type": "code",
   "execution_count": 2,
   "id": "d671c2d4",
   "metadata": {},
   "outputs": [
    {
     "name": "stdout",
     "output_type": "stream",
     "text": [
      "Iterations is: 10\n",
      "1.4142134998513232\n"
     ]
    }
   ],
   "source": [
    "#Question 1\n",
    "\n",
    "def Regula_Falsi (f, a, b, tol):\n",
    "    #interations counter\n",
    "    i = 0\n",
    "    # find slope m\n",
    "    m = (f(b) - f(a)) / (b - a)\n",
    "    # find x-intercept, c by setting f(b) = 0\n",
    "    c = -f(a)/m + a\n",
    "    i += 1\n",
    "    while (abs(f(c)) > tol):\n",
    "        # Observe signs of f(a) vs f(c) and f(b) vs f(c)\n",
    "        if (f(a) > 0 and f(c) < 0):\n",
    "            b = c\n",
    "        else:\n",
    "            a = c\n",
    "        # With changed interval of a and b, repeat\n",
    "        m = (f(b) - f(a)) / (b - a)\n",
    "        c = -f(a)/m + a \n",
    "        i += 1\n",
    "    print(\"Iterations is: \" + str(i))\n",
    "    return c\n",
    "\n",
    "f = lambda x: x**2 - 2\n",
    "a = 0\n",
    "b = 2\n",
    "tol = 1e-6\n",
    "print(Regula_Falsi(f, a, b, tol))"
   ]
  },
  {
   "cell_type": "code",
   "execution_count": 3,
   "id": "63b01c6f",
   "metadata": {},
   "outputs": [],
   "source": [
    "#Question 2; Write code to implement the Newton-Raphson method.\n",
    "  #def newton (f, f_prime, x, tol):\n",
    "    # f is a differentiable function\n",
    "    # f_prime is the derivative of f (done by hand)\n",
    "    # x is initial approximation of the root\n",
    "    # tol is the tolerance\n",
    "\n",
    "    # check that f(x) is differentiable (by hand outside the function)\n",
    "\n",
    "    # obtain the derivative f_prime(x) \n",
    "\n",
    "    # use the initial approximation to get a more refined approximation\n",
    "    # x_n+1 = x_n - (f(x_n) / f'(x_n))\n",
    "\n",
    "    # repeat such f(x_n) is less than the tolerance"
   ]
  },
  {
   "cell_type": "code",
   "execution_count": 5,
   "id": "95abbf05",
   "metadata": {},
   "outputs": [
    {
     "name": "stdout",
     "output_type": "stream",
     "text": [
      "Iterations is: 24\n",
      "1.41421356251345\n"
     ]
    }
   ],
   "source": [
    "#Question 2\n",
    "def newton (f, f_prime, x, tol):\n",
    "    # iterations counter\n",
    "    i = 0\n",
    "    # Assume given f is differentiable, f_prime != 0\n",
    "    n = 1\n",
    "    x_n = x - (f(x) / f_prime(x))\n",
    "    i += 1\n",
    "    while abs(f(x_n)) > tol:\n",
    "        n += 1\n",
    "        x = x_n\n",
    "        x_n = x - (f(x) / f_prime(x))\n",
    "        i += 1\n",
    "        \n",
    "    print(\"Iterations is: \" + str(i))\n",
    "    return x_n\n",
    "\n",
    "f = lambda x: x**2 - 2\n",
    "f_prime = lambda x: 2*x\n",
    "x = 1e-6\n",
    "tol = 1e-6\n",
    "print(newton(f, f_prime, x, tol))"
   ]
  },
  {
   "cell_type": "code",
   "execution_count": null,
   "id": "8cb79676",
   "metadata": {},
   "outputs": [],
   "source": []
  }
 ],
 "metadata": {
  "kernelspec": {
   "display_name": "Python 3 (ipykernel)",
   "language": "python",
   "name": "python3"
  },
  "language_info": {
   "codemirror_mode": {
    "name": "ipython",
    "version": 3
   },
   "file_extension": ".py",
   "mimetype": "text/x-python",
   "name": "python",
   "nbconvert_exporter": "python",
   "pygments_lexer": "ipython3",
   "version": "3.9.7"
  }
 },
 "nbformat": 4,
 "nbformat_minor": 5
}
