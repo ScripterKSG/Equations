{
 "cells": [
  {
   "cell_type": "code",
   "execution_count": null,
   "id": "0ed5e769",
   "metadata": {},
   "outputs": [],
   "source": [
    "'''\n",
    "Calculate the real part of the wave function \\psi(x,t) at arbitrary time t using inverse discrete sine and idst\n",
    "\n",
    "\\psi(x,0) = exp[- (x - x_0)^2 / (2 sigma^2)] e^{ikx}\n",
    "'''"
   ]
  },
  {
   "cell_type": "code",
   "execution_count": null,
   "id": "550b948d",
   "metadata": {},
   "outputs": [],
   "source": [
    "from scipy import fftpack\n",
    "from numpy import zeros\n",
    "\n",
    "def main():\n",
    "    N = 1000\n",
    "    m = 9.109e-31\n",
    "    L = 10e-8\n",
    "    x_0 = L/2\n",
    "    sigma = 1e-10\n",
    "    k = 5e10 \n",
    "    h_bar = 1.05e-34\n",
    "    \n",
    "    psi = zeros (N//2 + 1, complex)\n",
    "    for k in range (N//2 + 1):\n",
    "        for n in range (N):\n",
    "            psi[k] += "
   ]
  }
 ],
 "metadata": {
  "kernelspec": {
   "display_name": "Python 3 (ipykernel)",
   "language": "python",
   "name": "python3"
  },
  "language_info": {
   "codemirror_mode": {
    "name": "ipython",
    "version": 3
   },
   "file_extension": ".py",
   "mimetype": "text/x-python",
   "name": "python",
   "nbconvert_exporter": "python",
   "pygments_lexer": "ipython3",
   "version": "3.9.7"
  }
 },
 "nbformat": 4,
 "nbformat_minor": 5
}
