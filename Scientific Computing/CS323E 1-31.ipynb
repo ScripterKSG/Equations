{
 "cells": [
  {
   "cell_type": "code",
   "execution_count": 1,
   "id": "7a0a1c34",
   "metadata": {},
   "outputs": [
    {
     "name": "stdout",
     "output_type": "stream",
     "text": [
      "Enter number: 25\n",
      "13.0\n",
      "7.461538461538462\n",
      "5.406026962727994\n",
      "5.015247601944898\n",
      "5.000023178253949\n",
      "5.000000000053722\n",
      "5.0\n",
      "Approximation is: 5.0\n",
      "Number of iterations is: 7\n"
     ]
    }
   ],
   "source": [
    "#Question 1, sqrt approximation\n",
    "N = int(input(\"Enter number: \"))\n",
    "old_guess = float(N/2)\n",
    "new_guess = N\n",
    "iterations = 0\n",
    "while(abs(new_guess - old_guess) >= 1e-6):\n",
    "    old_guess = new_guess\n",
    "    new_guess = float(((N/old_guess) + old_guess)/2)\n",
    "    print(new_guess)\n",
    "    iterations += 1\n",
    "    \n",
    "\n",
    "print(\"Approximation is: \" + str(new_guess))\n",
    "print(\"Number of iterations is: \" + str(iterations))\n"
   ]
  },
  {
   "cell_type": "code",
   "execution_count": 2,
   "id": "e2f7288a",
   "metadata": {},
   "outputs": [
    {
     "data": {
      "text/plain": [
       "Text(0, 0.5, 'Function Values')"
      ]
     },
     "execution_count": 2,
     "metadata": {},
     "output_type": "execute_result"
    },
    {
     "data": {
      "image/png": "[encoded data removed]",
      "text/plain": [
       "<Figure size 432x288 with 1 Axes>"
      ]
     },
     "metadata": {
      "needs_background": "light"
     },
     "output_type": "display_data"
    }
   ],
   "source": [
    "#Question 3, plotting\n",
    "import matplotlib.pyplot as plt\n",
    "import numpy as np\n",
    "    \n",
    "x = np.linspace(1e-6,5)\n",
    "f = np.sin(x) + x**2\n",
    "g = 2 * np.log(x) + 5\n",
    "h = np.sin(x) + x**2 - 2 * np.log(x) - 5\n",
    "\n",
    "plt.plot (x,f,label = \"f\",linewidth = 2.0)\n",
    "plt.plot (x,g,label = \"g\",linewidth = 2.0)\n",
    "plt.plot (x,h,label = \"h\",linewidth = 2.0)\n",
    "plt.xlabel('X')\n",
    "plt.ylabel('Function Values')"
   ]
  },
  {
   "cell_type": "code",
   "execution_count": 2,
   "id": "cdaf1a9a",
   "metadata": {},
   "outputs": [
    {
     "name": "stdout",
     "output_type": "stream",
     "text": [
      "Enter number: 900\n",
      "Approximation is: 9.654893819242716\n"
     ]
    }
   ],
   "source": [
    "#Question 2, cubic root\n",
    "Z = int(input(\"Enter number: \"))\n",
    "new_mid = Z/2\n",
    "old_mid = int(0)\n",
    "\n",
    "#To find cube root\n",
    "def binary_search(l,h):\n",
    "    mid = (l + h) / 2\n",
    "    if mid**3 == Z:\n",
    "        return mid\n",
    "    elif abs(h - mid) < 1e-6:\n",
    "        return mid\n",
    "    elif mid**3 > Z:\n",
    "        return binary_search(l, mid)\n",
    "    else:\n",
    "        return binary_search(mid, h)\n",
    "\n",
    "new_mid = binary_search(old_mid, new_mid)\n",
    "\n",
    "print(\"Approximation is: \" + str(new_mid))"
   ]
  },
  {
   "cell_type": "code",
   "execution_count": 8,
   "id": "da9542dd",
   "metadata": {},
   "outputs": [
    {
     "name": "stdout",
     "output_type": "stream",
     "text": [
      "2.4953192472457886\n"
     ]
    }
   ],
   "source": [
    "#Question 4, Find root of equation, Bisection Method\n",
    "import numpy as np\n",
    "\n",
    "def find_roots():\n",
    "    lo = 0\n",
    "    hi = 5\n",
    "    tolerance=1.0e-6\n",
    "    # create a lambda for the equation for easier computation (solving for y)\\n\",\n",
    "    equation = lambda x_val: np.sin(x_val) + x_val ** 2 - 2 * np.log(x_val) - 5\n",
    "    x_guess = hi / 2\n",
    "    y_val = equation(x_guess)\n",
    "    while abs(equation(x_guess) - 0) > tolerance:\n",
    "        # we want to search for where the y value equals 0\n",
    "        if y_val > 0:\n",
    "            # we are too far, y_val is too high\n",
    "            hi = x_guess\n",
    "        else:\n",
    "            # we are too far, y_val is too low\n",
    "            lo = x_guess\n",
    "        x_guess = (lo + hi) / 2\n",
    "        y_val = equation(x_guess)\n",
    "    return x_guess\n",
    "\n",
    "print(find_roots())  \n"
   ]
  },
  {
   "cell_type": "code",
   "execution_count": null,
   "id": "2f860a50",
   "metadata": {},
   "outputs": [],
   "source": []
  }
 ],
 "metadata": {
  "kernelspec": {
   "display_name": "Python 3 (ipykernel)",
   "language": "python",
   "name": "python3"
  },
  "language_info": {
   "codemirror_mode": {
    "name": "ipython",
    "version": 3
   },
   "file_extension": ".py",
   "mimetype": "text/x-python",
   "name": "python",
   "nbconvert_exporter": "python",
   "pygments_lexer": "ipython3",
   "version": "3.9.7"
  }
 },
 "nbformat": 4,
 "nbformat_minor": 5
}
