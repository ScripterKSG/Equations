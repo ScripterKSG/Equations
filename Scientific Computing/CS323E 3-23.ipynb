{
 "cells": [
  {
   "cell_type": "code",
   "execution_count": 1,
   "id": "12aae715",
   "metadata": {},
   "outputs": [
    {
     "name": "stdout",
     "output_type": "stream",
     "text": [
      "dt =  0.1 , dx =  0.001 , a =  40000.0\n"
     ]
    },
    {
     "data": {
      "application/vnd.jupyter.widget-view+json": {
       "model_id": "6101623420d84ab496d651fe644b773a",
       "version_major": 2,
       "version_minor": 0
      },
      "text/plain": [
       "interactive(children=(Dropdown(description='T', options=(0.0, 0.1111111111111111, 0.2222222222222222, 0.333333…"
      ]
     },
     "metadata": {},
     "output_type": "display_data"
    }
   ],
   "source": [
    "'''\n",
    "* Solve the 1-D wave equation using finite-difference method\n",
    "  u_tt = 4 * u_xx\n",
    "\n",
    "  domain x = [0, 1]\n",
    "  initial condition: u(0, x) = 4 * x * (1 - x)\n",
    "  Boundary conditions: u(t, 0) = 0 and u(t, 1) = 0\n",
    "  Intial condition: u_t(0, x) = 0\n",
    "'''\n",
    "\n",
    "\n",
    "import numpy as np\n",
    "import matplotlib.pyplot as plt\n",
    "from ipywidgets import interactive, interact\n",
    "from IPython.display import display\n",
    "\n",
    "def wrapper (x, u, t):\n",
    "    def plotter (T):\n",
    "        plt.plot (x, u, 'b')\n",
    "        plt.grid()\n",
    "        plt.ylim (-1, 1)\n",
    "        plt.show()\n",
    "    interactive_plot = interactive (plotter, T = t)\n",
    "    display (interactive_plot)\n",
    "\n",
    "def main():\n",
    "    # create an array for t starting at t = 0 and ending at t = 1\n",
    "    # divide this interval into 10 equal parts\n",
    "    t = np.linspace(0,1,10)\n",
    "    dt = .1\n",
    "\n",
    "    # create an array for x starting at x = 0 and ending at x = 1\n",
    "    # divide this interval into 10 equal parts\n",
    "    x = np.linspace(0,1,10)\n",
    "    dx = .001\n",
    "\n",
    "    # define the wave velocity\n",
    "    c = 2\n",
    "\n",
    "    # define parameter a as\n",
    "    a = (c * dt / dx) ** 2\n",
    "\n",
    "    # print the values\n",
    "    print (\"dt = \", dt, \", dx = \", dx, \", a = \", a)\n",
    "\n",
    "    # build array U to store all approximations at all times and \n",
    "    # at all spatial points\n",
    "    u = np.zeros ((len(t), len(x)))\n",
    "\n",
    "    # enforce the left boundary condition\n",
    "    u[:, 0] = 0\n",
    "\n",
    "    # enforce the right boundary condition\n",
    "    u[:, -1] = 0\n",
    "\n",
    "    # enforce the initial condition\n",
    "    u[0,:] = 4 * x * (1 - x)\n",
    "\n",
    "    # fill the array U one row at a time, leave the boundary conditions\n",
    "    # fixed and fill indices 1 through -2\n",
    "    for n in range (len(t) - 1):\n",
    "        if (n == 0):\n",
    "            u[0, :] = 0\n",
    "            u[1, :] = 0\n",
    "        else:\n",
    "            u[n+1,1:-1] = 2 * ( 1 - c**2 * dt**2 / dx**2 ) * u[n,1:-1] +  c**2 * dt**2 / dx**2 * (u[n,2:] + u[n,:-2]) - u[n-1, 1:-1]\n",
    "\n",
    "    # plot the solution\n",
    "    wrapper (x, u, t)\n",
    "\n",
    "main()"
   ]
  },
  {
   "cell_type": "code",
   "execution_count": null,
   "id": "b8be1bc6",
   "metadata": {},
   "outputs": [],
   "source": []
  }
 ],
 "metadata": {
  "kernelspec": {
   "display_name": "Python 3 (ipykernel)",
   "language": "python",
   "name": "python3"
  },
  "language_info": {
   "codemirror_mode": {
    "name": "ipython",
    "version": 3
   },
   "file_extension": ".py",
   "mimetype": "text/x-python",
   "name": "python",
   "nbconvert_exporter": "python",
   "pygments_lexer": "ipython3",
   "version": "3.9.7"
  }
 },
 "nbformat": 4,
 "nbformat_minor": 5
}
