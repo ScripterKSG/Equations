{
 "cells": [
  {
   "cell_type": "code",
   "execution_count": 2,
   "id": "4bcf291a",
   "metadata": {},
   "outputs": [
    {
     "data": {
      "text/plain": [
       "\"\\n Fourth order Runge-Kutta Method for solving odes:\\n  Given an ode of the form:\\n  y' = f(x, y)\\n  Let the initial values be x0, y0. If x0 is given an increment h, then\\n  the increment in y is obtained as follows:\\n  k1 = h * f (x0, y0)\\n  k2 = h * f (x0 + h/2, y0 + k1/2)\\n  k3 = h * f (x0 + h/2, y0 + k2/2)\\n  k4 = h * f (x0 + h, y0 + k3)\\n  delta_y = (k1 + 2 * k2 + 2 * k3 + k4) / 6\\n  x1 = x0 + h\\n  y1 = y0 + delta_y\\n  Similarly calculate values (x2, y2), (x3, y3), etc.\\n\""
      ]
     },
     "execution_count": 2,
     "metadata": {},
     "output_type": "execute_result"
    },
    {
     "name": "stdout",
     "output_type": "stream",
     "text": [
      "ERROR! Session/line number was not unique in database. History logging moved to new session 238\n"
     ]
    }
   ],
   "source": [
    "'''\n",
    " Fourth order Runge-Kutta Method for solving odes:\n",
    "  Given an ode of the form:\n",
    "  y' = f(x, y)\n",
    "  Let the initial values be x0, y0. If x0 is given an increment h, then\n",
    "  the increment in y is obtained as follows:\n",
    "  k1 = h * f (x0, y0)\n",
    "  k2 = h * f (x0 + h/2, y0 + k1/2)\n",
    "  k3 = h * f (x0 + h/2, y0 + k2/2)\n",
    "  k4 = h * f (x0 + h, y0 + k3)\n",
    "  delta_y = (k1 + 2 * k2 + 2 * k3 + k4) / 6\n",
    "  x1 = x0 + h\n",
    "  y1 = y0 + delta_y\n",
    "  Similarly calculate values (x2, y2), (x3, y3), etc.\n",
    "'''"
   ]
  },
  {
   "cell_type": "code",
   "execution_count": 2,
   "id": "0b7f10e9",
   "metadata": {},
   "outputs": [
    {
     "data": {
      "image/png": "[encoded data removed]",
      "text/plain": [
       "<Figure size 432x288 with 1 Axes>"
      ]
     },
     "metadata": {
      "needs_background": "light"
     },
     "output_type": "display_data"
    },
    {
     "name": "stdout",
     "output_type": "stream",
     "text": [
      "0.1 [ 0.00000000e+00 -1.08131371e-09 -2.10439866e-09 -3.05362824e-09\n",
      " -3.91452082e-09 -4.67385952e-09 -5.31980848e-09 -5.84200954e-09\n",
      " -6.23166962e-09 -6.48162990e-09 -6.58642052e-09 -6.54230137e-09\n",
      " -6.34728248e-09 -6.00113004e-09 -5.50535639e-09 -4.86318963e-09\n",
      " -4.07953049e-09 -3.16089133e-09 -2.11531925e-09 -9.52304458e-10\n",
      "  3.17323279e-10  1.68151293e-09  3.12712589e-09  4.64006833e-09\n",
      "  6.20544860e-09  7.80772869e-09  9.43088918e-09  1.10585965e-08\n",
      "  1.26743738e-08  1.42617700e-08  1.58045317e-08  1.72867727e-08\n",
      "  1.86931364e-08  2.00089565e-08  2.12204063e-08  2.23146432e-08\n",
      "  2.32799424e-08  2.41058171e-08  2.47831271e-08  2.53041752e-08\n",
      "  2.56627866e-08  2.58543761e-08  2.58759950e-08  2.57263649e-08\n",
      "  2.54058931e-08  2.49166712e-08  2.42624575e-08  2.34486410e-08\n",
      "  2.24821906e-08  2.13715876e-08]\n",
      "Root Mean Square Error:\n",
      "\n",
      "1.5363885450114292e-08\n"
     ]
    }
   ],
   "source": [
    "import numpy as np\n",
    "import matplotlib.pyplot as plt\n",
    "  \n",
    "def rk4_1d (f, x0, y0, xmax, h): \n",
    "    # set up the domain of the function between x0, xmax, and h\n",
    "    x = x = x = np.linspace(x0, xmax, int((xmax - x0) / h))\n",
    "\n",
    "    # zero out the range of the function for the given domain\n",
    "    y = np.zeros_like (x)\n",
    "\n",
    "    # fill in the initial conditions\n",
    "    x[0] = x0\n",
    "    y[0] = y0\n",
    "\n",
    "    # now compute the range using the Runge-Kutta formalism\n",
    "    for i in range (1,len(y)):\n",
    "        k1 = h * f (x[i-1], y[i-1])\n",
    "        k2 = h * f (x[i-1] + h/2, y[i-1] + k1/2)\n",
    "        k3 = h * f (x[i-1] + h/2, y[i-1] + k2/2)\n",
    "        k4 = h * f (x[i-1] + h, y[i-1] + k3)\n",
    "        delta_y = (k1 + 2 * k2 + 2 * k3 + k4) / 6\n",
    "        x[i] = x[i-1] + h\n",
    "        y[i] = y[i-1] + delta_y\n",
    "\n",
    "    # return the solution\n",
    "    return x, y\n",
    "\n",
    "def main():\n",
    "    # define your function f(x, y) as a lambda function\n",
    "    # specify x even if x does not show up in f(x, y)\n",
    "    f = lambda x, y: -y/3 + np.sin(x) \n",
    "\n",
    "    # specify the initial conditions\n",
    "    x0 = 0\n",
    "    y0 = 1\n",
    "\n",
    "    # specify the max in your domain\n",
    "    xmax = 5\n",
    "\n",
    "    # specify the increment in x\n",
    "    dx = .1\n",
    "\n",
    "    # get the solution of the differential equation\n",
    "    x, y = rk4_1d (f, x0, y0, xmax, dx)\n",
    "\n",
    "    # display the  numerical solution\n",
    "    plt.plot (x, y, 'red')\n",
    "\n",
    "    # for the vector (domain) x get the analytical range y_actual\n",
    "    y_actual = (1/10) * (19 * np.e**(-x/3) + 3 * np.sin(x) - 9 * np.cos(x))\n",
    "\n",
    "    # display the analytical solution\n",
    "    plt.plot (x, y_actual, 'blue')\n",
    "\n",
    "    plt.grid()\n",
    "    plt.show()\n",
    "\n",
    "    # estimate the error of your numerical solution\n",
    "    # obtain the root-mean-square of your residuals (y - y_actual)\n",
    "    std = y - y_actual\n",
    "\n",
    "    # print both dx and std to the same precision for comparison\n",
    "    print(dx, std)\n",
    "    \n",
    "    MSE = np.square(np.subtract(y_actual,y)).mean() \n",
    " \n",
    "    RMSE = np.sqrt(MSE)\n",
    "    print(\"Root Mean Square Error:\\n\")\n",
    "    print(RMSE)\n",
    "    \n",
    "main()\n"
   ]
  },
  {
   "cell_type": "code",
   "execution_count": 1,
   "id": "100bb272",
   "metadata": {},
   "outputs": [
    {
     "data": {
      "image/png": "[encoded data removed]",
      "text/plain": [
       "<Figure size 432x288 with 1 Axes>"
      ]
     },
     "metadata": {
      "needs_background": "light"
     },
     "output_type": "display_data"
    }
   ],
   "source": [
    "import math\n",
    "import numpy as np\n",
    "import matplotlib.pyplot as plt\n",
    "  \n",
    "def euler_2d (f, x0, y0, v0, xmax, h): \n",
    "    # set up the domain of the function between x0, xmax, and h\n",
    "    x = np.linspace(x0, xmax, int((xmax-x0)/h))\n",
    "\n",
    "    # zero out the range of the function for the given domain\n",
    "    y = np.zeros_like (x)\n",
    "    v = np.zeros_like (x)\n",
    "\n",
    "    # fill in the initial conditions\n",
    "    x[0] = x0\n",
    "    y[0] = y0\n",
    "    v[0] = v0\n",
    "\n",
    "    # now compute the range using Euler's approximation\n",
    "    for i in range (1, int((xmax-x0)/h)):\n",
    "        y[i] = y[i-1] + h * v[i-1]\n",
    "        v[i] = v[i-1] + h * f(x[i-1], y[i-1], v[i-1])\n",
    "\n",
    "    # return the solution\n",
    "    return x, y\n",
    "\n",
    "def main():\n",
    "    # define your function f(x, y) as a lambda function\n",
    "    # specify x even if x does not show up in f(x, y)\n",
    "    b = 0.2\n",
    "    w = 1\n",
    "    f = lambda x, y, v: -b*v - w**2*y\n",
    "\n",
    "    # specify the initial conditions\n",
    "    x0 = 0\n",
    "    y0 = 1\n",
    "    v0 = 0\n",
    "\n",
    "    # specify the max in your domain\n",
    "    xmax = 100\n",
    "\n",
    "    # specify the increment in x\n",
    "    dx = 0.1\n",
    "\n",
    "    # get the solution of the differential equation\n",
    "    x, y = euler_2d (f, x0, y0, v0, xmax, dx)\n",
    "\n",
    "    # display the  numerical solution\n",
    "    plt.plot (x, y, 'red')\n",
    "\n",
    "    # for the vector (domain) x get the analytical range y_actual\n",
    "    y_actual = []\n",
    "    for xi in x:\n",
    "        y_actual.append(y0*math.cos(w*xi)*math.exp(-b*xi))\n",
    "\n",
    "    # display the analytical solution\n",
    "    plt.plot (x, y_actual, 'blue')\n",
    "\n",
    "    plt.grid()\n",
    "    plt.show()\n",
    "\n",
    "    # estimate the error of your numerical solution\n",
    "    # obtain the root-mean-square of your residuals (y - y_actual)\n",
    "    #std = \n",
    "\n",
    "    # print both dx and std to the same precision for comparison\n",
    "\n",
    "main()"
   ]
  },
  {
   "cell_type": "code",
   "execution_count": null,
   "id": "af3a97da",
   "metadata": {},
   "outputs": [],
   "source": []
  }
 ],
 "metadata": {
  "kernelspec": {
   "display_name": "Python 3 (ipykernel)",
   "language": "python",
   "name": "python3"
  },
  "language_info": {
   "codemirror_mode": {
    "name": "ipython",
    "version": 3
   },
   "file_extension": ".py",
   "mimetype": "text/x-python",
   "name": "python",
   "nbconvert_exporter": "python",
   "pygments_lexer": "ipython3",
   "version": "3.9.7"
  }
 },
 "nbformat": 4,
 "nbformat_minor": 5
}
