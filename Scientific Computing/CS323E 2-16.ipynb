{
 "cells": [
  {
   "cell_type": "code",
   "execution_count": 1,
   "id": "28247c84",
   "metadata": {},
   "outputs": [
    {
     "name": "stdout",
     "output_type": "stream",
     "text": [
      "78541390\n",
      "314165560\n",
      "6.294641020687664e-05\n"
     ]
    }
   ],
   "source": [
    "import random, math\n",
    "\n",
    "n = 0\n",
    "total = 100000000\n",
    "for i in range(total):\n",
    "    if math.hypot(random.uniform(-1,1),random.uniform(-1,1)) < 1:\n",
    "        n += 1\n",
    "\n",
    "print(n*4/total)\n",
    "print(str(n*4/total - math.pi))"
   ]
  },
  {
   "cell_type": "code",
   "execution_count": 2,
   "id": "25f91492",
   "metadata": {},
   "outputs": [
    {
     "name": "stdout",
     "output_type": "stream",
     "text": [
      "0.654741\n"
     ]
    }
   ],
   "source": [
    "import numpy as np\n",
    "import matplotlib.pyplot as plt\n",
    "import random, math\n",
    "\n",
    "f = lambda x: np.sin(x**2)\n",
    "n = 0\n",
    "total = 1000000\n",
    "for i in range(total):\n",
    "    x = math.hypot(random.uniform(0,1.5))\n",
    "    y = math.hypot(random.uniform(0,1.5))\n",
    "    if y > f(x):\n",
    "        n += 1\n",
    "\n",
    "print(n/total)"
   ]
  },
  {
   "cell_type": "code",
   "execution_count": null,
   "id": "b17e570f",
   "metadata": {},
   "outputs": [],
   "source": []
  },
  {
   "cell_type": "code",
   "execution_count": null,
   "id": "e5f7d621",
   "metadata": {},
   "outputs": [],
   "source": []
  }
 ],
 "metadata": {
  "kernelspec": {
   "display_name": "Python 3 (ipykernel)",
   "language": "python",
   "name": "python3"
  },
  "language_info": {
   "codemirror_mode": {
    "name": "ipython",
    "version": 3
   },
   "file_extension": ".py",
   "mimetype": "text/x-python",
   "name": "python",
   "nbconvert_exporter": "python",
   "pygments_lexer": "ipython3",
   "version": "3.9.7"
  }
 },
 "nbformat": 4,
 "nbformat_minor": 5
}
