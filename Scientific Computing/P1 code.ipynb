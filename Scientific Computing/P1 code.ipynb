{
 "cells": [
  {
   "cell_type": "code",
   "execution_count": 1,
   "id": "3801da9d",
   "metadata": {},
   "outputs": [],
   "source": [
    "# As we choose to neglect air resistance, we note that the horizontal displacement of the \n",
    "# projectile solely depends on the intial velocity, time and angle of the launch.\n",
    "# x = v0 * np.cos(theta) * t\n",
    "# For the vertical displacement, we will need to factor in gravity. Hence,\n",
    "# y = v0 * np.sin(theta) * t - 1/2 * g * t**2\n",
    "# We will solve for the time it takes for the ball to reach y* and plug\n",
    "# that time into our x equation, setting x = x*. We note there may be\n",
    "# 2 different times, and we must account for that. Besides that, we can\n",
    "# use a numerical root finding technique to find theta."
   ]
  },
  {
   "cell_type": "code",
   "execution_count": 1,
   "id": "8c94f3e9",
   "metadata": {},
   "outputs": [
    {
     "name": "stdout",
     "output_type": "stream",
     "text": [
      "0.1 0.7853981633974483\n",
      "75.3605816588758\n",
      "0.1 0.44269908169872413\n",
      "nan\n",
      "0.2713495408493621\n"
     ]
    },
    {
     "name": "stderr",
     "output_type": "stream",
     "text": [
      "C:\\Users\\axolo\\AppData\\Local\\Temp\\ipykernel_5544\\902268968.py:37: RuntimeWarning: invalid value encountered in sqrt\n",
      "  f = lambda theta: v0 * np.cos(theta) * (v0 * np.sin(theta) - np.sqrt(v0**2 * np.sin(theta)**2 - 2 * g * y)) / g - x\n"
     ]
    }
   ],
   "source": [
    "import numpy as np\n",
    "import matplotlib.pyplot as plt\n",
    "import math\n",
    "\n",
    "def find_roots(equation):\n",
    "    #range of 0 to \n",
    "    lo = .1\n",
    "    hi = math.pi/2\n",
    "    tolerance=1.0e-3\n",
    "    theta_guess = hi / 2\n",
    "    val = equation(theta_guess)\n",
    "    while abs(equation(theta_guess) - 0) > tolerance:\n",
    "        # we want to search for where the value equals 0\n",
    "        if val > 0:\n",
    "            # we are too far, val is too high\n",
    "            hi = theta_guess\n",
    "        else:\n",
    "            # we are too far, val is too low\n",
    "            lo = theta_guess\n",
    "        print(lo, hi)\n",
    "        theta_guess = (lo + hi) / 2\n",
    "        val = equation(theta_guess)\n",
    "        print(val)\n",
    "    return theta_guess\n",
    "\n",
    "v0 = 100\n",
    "g = 9.8\n",
    "y = 50\n",
    "x = 50\n",
    "# Use this y = (v0 * np.sin(theta)) * t – 1/2 g * t**2 to solve for t\n",
    "# t = (v0 * np.sin(theta) - np.sqrt(v**2 * np.sin(theta)**2 - 2 * g * y)) / g\n",
    "# Plug the above t into the x equation\n",
    "# x = v0 * np.cos(theta) * t\n",
    "# x = v0 * np.cos(theta) * (v0 * np.sin(theta) - np.sqrt(v**2 * np.sin(theta)**2 - 2 * g * y)) / g\n",
    "# Subtract x from both sides\n",
    "# 0 = v0 * np.cos(theta) * (v0 * np.sin(theta) - np.sqrt(v**2 * np.sin(theta)**2 - 2 * g * y)) / g - x\n",
    "f = lambda theta: v0 * np.cos(theta) * (v0 * np.sin(theta) - np.sqrt(v0**2 * np.sin(theta)**2 - 2 * g * y)) / g - x\n",
    "print(find_roots(f))"
   ]
  },
  {
   "cell_type": "code",
   "execution_count": null,
   "id": "3d8c3b84",
   "metadata": {},
   "outputs": [],
   "source": []
  }
 ],
 "metadata": {
  "kernelspec": {
   "display_name": "Python 3 (ipykernel)",
   "language": "python",
   "name": "python3"
  },
  "language_info": {
   "codemirror_mode": {
    "name": "ipython",
    "version": 3
   },
   "file_extension": ".py",
   "mimetype": "text/x-python",
   "name": "python",
   "nbconvert_exporter": "python",
   "pygments_lexer": "ipython3",
   "version": "3.9.7"
  }
 },
 "nbformat": 4,
 "nbformat_minor": 5
}
