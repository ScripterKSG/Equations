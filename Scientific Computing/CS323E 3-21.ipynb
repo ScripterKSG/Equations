{
 "cells": [
  {
   "cell_type": "code",
   "execution_count": 1,
   "id": "d5252dc7",
   "metadata": {},
   "outputs": [
    {
     "name": "stdout",
     "output_type": "stream",
     "text": [
      "dt =  0.001 , dx =  0.1 , a =  0.04999999999999999\n"
     ]
    },
    {
     "data": {
      "application/vnd.jupyter.widget-view+json": {
       "model_id": "c51fe9459214417bad89a1a852f8f094",
       "version_major": 2,
       "version_minor": 0
      },
      "text/plain": [
       "interactive(children=(Dropdown(description='T', options=(0.0, 0.1111111111111111, 0.2222222222222222, 0.333333…"
      ]
     },
     "metadata": {},
     "output_type": "display_data"
    }
   ],
   "source": [
    "# Solve the 1-D heat transfer equation using finite-difference method\n",
    "'''\n",
    "    u_t = 0.5 * u_xx\n",
    "\n",
    "    domain x = [0, 1]\n",
    "    initial condition: u(0, x) = sin (2 * pi * x)\n",
    "    Dirichlet boundary conditions: u(t, 0) = 0 and u(t, 1) = 0\n",
    "'''\n",
    "\n",
    "import numpy as np\n",
    "import matplotlib.pyplot as plt\n",
    "from ipywidgets import interactive, interact\n",
    "from IPython.display import display\n",
    "\n",
    "def wrapper (x, u, t):\n",
    "    def plotter (T):\n",
    "        plt.plot (x, u, 'b')\n",
    "        plt.grid()\n",
    "        plt.ylim (-1, 1)\n",
    "        plt.show()\n",
    "    interactive_plot = interactive (plotter, T = t)\n",
    "    display (interactive_plot)\n",
    "\n",
    "def main():\n",
    "    # create an array for t starting at t = 0 and ending at t = 1\n",
    "    # divide this interval into 10 equal parts\n",
    "    t = np.linspace(0,1,10)\n",
    "    dt = .001\n",
    "\n",
    "    # create an array for x starting at x = 0 and ending at x = 1\n",
    "    # divide this interval into 10 equal parts\n",
    "    x = np.linspace(0,1,10)\n",
    "    dx = .1\n",
    "\n",
    "    # define the diffusion coefficient\n",
    "    D = 0.5\n",
    "\n",
    "    # define parameter a as\n",
    "    a = (D * dt) / (dx**2)\n",
    "\n",
    "    # print the values\n",
    "    print (\"dt = \", dt, \", dx = \", dx, \", a = \", a)\n",
    "\n",
    "    # build array U to store all approximations at all times and \n",
    "    # at all spatial points\n",
    "    u = np.zeros((len(t), len(x)))\n",
    "\n",
    "    # enforce the left boundary condition\n",
    "    u[:, 0] = 0\n",
    "\n",
    "    # enforce the right boundary condition\n",
    "    u[:, -1] = 0\n",
    "\n",
    "    # enforce the initial condition\n",
    "    u[0,:] = np.sin(2 * np.pi * x)\n",
    "\n",
    "    # fill the array U one row at a time, leave the boundary conditions\n",
    "    # fixed and fill indices 1 through -2\n",
    "    for n in range (len(t) - 1):\n",
    "        u[n+1,1:-1] = u[n,1:-1] + a * (u[n,2:] - 2 * u[n,1:-1] + u[n,:-2])\n",
    "\n",
    "    # plot the solution\n",
    "    #t_prime = [i for i in range(len(t))]\n",
    "    wrapper (x, u, t)\n",
    "\n",
    "main()"
   ]
  },
  {
   "cell_type": "code",
   "execution_count": null,
   "id": "b3834d60",
   "metadata": {},
   "outputs": [],
   "source": []
  }
 ],
 "metadata": {
  "kernelspec": {
   "display_name": "Python 3 (ipykernel)",
   "language": "python",
   "name": "python3"
  },
  "language_info": {
   "codemirror_mode": {
    "name": "ipython",
    "version": 3
   },
   "file_extension": ".py",
   "mimetype": "text/x-python",
   "name": "python",
   "nbconvert_exporter": "python",
   "pygments_lexer": "ipython3",
   "version": "3.9.7"
  }
 },
 "nbformat": 4,
 "nbformat_minor": 5
}
