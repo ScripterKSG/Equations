{
 "cells": [
  {
   "cell_type": "code",
   "execution_count": 2,
   "id": "30140d04",
   "metadata": {},
   "outputs": [
    {
     "name": "stdout",
     "output_type": "stream",
     "text": [
      "Error between LU and np.linalg.solve(): 1.1579383378437038\n"
     ]
    }
   ],
   "source": [
    "#Write code to solve a linear system of equations using forward\n",
    "#elimination and back substitution.\n",
    "\n",
    "import sys\n",
    "import numpy as np\n",
    "\n",
    "#Solve Ly = b for y, where the matrix L is assumed to be lower triangular with ones on the diagonal\n",
    "\n",
    "def lsolve(L, b):\n",
    "    L = np.matrix(L) # make sure L is the correct data type\n",
    "    n = b.size # get # rows\n",
    "    y = np.matrix( np.zeros((n,1))) # make vector of 0s to store y values\n",
    "    for i in range(n):\n",
    "        # start the loop by assigning y to the value on the right\n",
    "        y[i] = b[i] \n",
    "        for j in range(i): # now adjust y \n",
    "            y[i] -= L[i,j] * y[j]\n",
    "    return(y)\n",
    "\n",
    "\n",
    "#solves the problem Ux = y using backward substitution. The matrix U is assumed to be upper triangular\n",
    "\n",
    "def usolve(U, y):\n",
    "    U = np.matrix(U)\n",
    "    n = y.size\n",
    "    x = np.matrix(np.zeros((n,1)))\n",
    "    \n",
    "    \n",
    "    # for i = n-1 to 1,\n",
    "    # x[i] = (y[i] - sum^(n)_(j=i+1) U[i,j] * x[j]) / U[i][i]\n",
    "    for i in range(n-1, -1, -1):\n",
    "        x[i] = (y[i] - np.dot(U[i,i:], x[i:])) / U[i,i]\n",
    "        \n",
    "    return x\n",
    "\n",
    "'''\n",
    "#Algorithm from book, does the same thing as algorithm from class above\n",
    "def usolve(U, y):\n",
    "    U = np.matrix(U)\n",
    "    n = y.size\n",
    "    x = np.matrix(np.zeros((n,1)))\n",
    "    for i in range(n-1,-1,-1):     # start backwards\n",
    "        x[i] = y[i] / U[i,i]   \n",
    "        for j in range(i+1,n): # we are subtracting the sum of U[i,j] * x[j]) / U[i][i] from x[i]\n",
    "            x[i] -= U[i,j] * x[j] / U[i,i] \n",
    "    return(x)\n",
    "'''\n",
    "\n",
    "#takes a square matrix A and outputs the matrices L and U such that A = LU\n",
    "\n",
    "def myLU(A):\n",
    "    n = A.shape[0] # get the dimension of the matrix A\n",
    "    L = np.matrix( np.identity(n) ) # Build the identity part L\n",
    "    U = np.copy(A) # start the U matrix as a copy of A\n",
    "    for j in range(0,n-1):\n",
    "        for i in range(j+1,n):\n",
    "            mult = A[i,j] / A[j,j]\n",
    "            U[i, j+1:n] = U[i, j+1:n] - mult * U[j,j+1:n]\n",
    "            L[i,j] = mult\n",
    "            U[i,j] = 0 # why are we doing this?\n",
    "    return L,U\n",
    "\n",
    "A = np.matrix([[3,6,8],[2,7,-1],[5,2,2]])\n",
    "b = np.array([-13,4,1])\n",
    "\n",
    "A = np.matrix([[1, 4, 5], [6, 8, 22], [32, 5., 5]])\n",
    "b = np.array([1, 2, 3.])\n",
    "\n",
    "\n",
    "exact = np.linalg.solve(A,b)\n",
    "\n",
    "\n",
    "L, U = myLU(A)\n",
    "y = lsolve(L,b)\n",
    "x = usolve(U,y)\n",
    "\n",
    "err = np.linalg.norm(x-exact)\n",
    "print(\"Error between LU and np.linalg.solve():\",err)\n",
    "\n"
   ]
  },
  {
   "cell_type": "code",
   "execution_count": null,
   "id": "d1cee482",
   "metadata": {},
   "outputs": [],
   "source": []
  }
 ],
 "metadata": {
  "kernelspec": {
   "display_name": "Python 3 (ipykernel)",
   "language": "python",
   "name": "python3"
  },
  "language_info": {
   "codemirror_mode": {
    "name": "ipython",
    "version": 3
   },
   "file_extension": ".py",
   "mimetype": "text/x-python",
   "name": "python",
   "nbconvert_exporter": "python",
   "pygments_lexer": "ipython3",
   "version": "3.9.7"
  }
 },
 "nbformat": 4,
 "nbformat_minor": 5
}
